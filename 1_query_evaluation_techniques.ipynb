{
 "cells": [
  {
   "cell_type": "markdown",
   "id": "c1bf2d62-231f-4f0f-877f-e1de27055c0b",
   "metadata": {},
   "source": [
    "# QUERY TRANSLATION"
   ]
  },
  {
   "cell_type": "code",
   "execution_count": 1,
   "id": "e94a88bf-88ac-4954-893a-a528901df2e3",
   "metadata": {},
   "outputs": [],
   "source": [
    "from langchain_groq import ChatGroq\n",
    "from dotenv import load_dotenv\n",
    "from langchain_community.embeddings.ollama import OllamaEmbeddings\n",
    "import os\n",
    "\n",
    "load_dotenv()\n",
    "groq_api_key = os.getenv('GROQ_API_KEY')"
   ]
  },
  {
   "cell_type": "code",
   "execution_count": 46,
   "id": "f2a7b32c-565e-45a5-8828-123603b9fa32",
   "metadata": {},
   "outputs": [],
   "source": [
    "# llm = ChatGroq(groq_api_key=groq_api_key, model_name='llama-3.1-70b-versatile')\n",
    "llm = ChatGroq(groq_api_key=groq_api_key, model_name='llama3-8b-8192')\n",
    "# embedder = OllamaEmbeddings(model='mxbai-embed-large')"
   ]
  },
  {
   "cell_type": "code",
   "execution_count": 47,
   "id": "bf00a307-13b4-4ac5-8096-dba519606ad2",
   "metadata": {},
   "outputs": [
    {
     "data": {
      "text/plain": [
       "AIMessage(content=\"Hi! It's nice to meet you. Is there something I can help you with or would you like to chat?\", response_metadata={'token_usage': {'completion_tokens': 25, 'prompt_tokens': 11, 'total_tokens': 36, 'completion_time': 0.020833333, 'prompt_time': 0.001253428, 'queue_time': 0.0158691, 'total_time': 0.022086761}, 'model_name': 'llama3-8b-8192', 'system_fingerprint': 'fp_af05557ca2', 'finish_reason': 'stop', 'logprobs': None}, id='run-2c1895bc-5db6-4fb3-9c47-4b24f3563250-0', usage_metadata={'input_tokens': 11, 'output_tokens': 25, 'total_tokens': 36})"
      ]
     },
     "execution_count": 47,
     "metadata": {},
     "output_type": "execute_result"
    }
   ],
   "source": [
    "llm.invoke(\"Hi\")"
   ]
  },
  {
   "cell_type": "markdown",
   "id": "f08e3d06-84c2-4aba-992b-9eb8134ffba0",
   "metadata": {},
   "source": [
    "## 1. Multi-Query Translation"
   ]
  },
  {
   "cell_type": "code",
   "execution_count": 17,
   "id": "8f77446e-5d1a-484e-80cb-7541ad9f54a3",
   "metadata": {},
   "outputs": [],
   "source": [
    "from langchain.text_splitter import RecursiveCharacterTextSplitter\n",
    "from langchain_chroma import Chroma\n"
   ]
  },
  {
   "cell_type": "code",
   "execution_count": 22,
   "id": "8df07c44-0270-41aa-9ddf-e1cbc15f71b2",
   "metadata": {},
   "outputs": [],
   "source": [
    "from langchain_community.document_loaders import PyPDFDirectoryLoader"
   ]
  },
  {
   "cell_type": "code",
   "execution_count": 24,
   "id": "e9a1ba99-616a-4e4e-a07a-4ec98dbd4741",
   "metadata": {},
   "outputs": [
    {
     "name": "stdout",
     "output_type": "stream",
     "text": [
      "Number of pages in the document :: 25\n",
      "Number of chunks created - 34\n"
     ]
    }
   ],
   "source": [
    "loader = PyPDFDirectoryLoader('sample_docs', glob=\"*.pdf\")\n",
    "documents = loader.load()\n",
    "\n",
    "print(f\"Number of pages in the document :: {len(documents)}\")\n",
    "\n",
    "text_splitter = RecursiveCharacterTextSplitter.from_tiktoken_encoder(chunk_size=300, chunk_overlap=60)\n",
    "chunks = text_splitter.split_documents(documents)\n",
    "\n",
    "print(f\"Number of chunks created - {len(chunks)}\")"
   ]
  },
  {
   "cell_type": "code",
   "execution_count": 69,
   "id": "9f8f3100-004f-435e-a6d5-e34336bcc47b",
   "metadata": {},
   "outputs": [],
   "source": [
    "# vectordb = Chroma.from_documents(documents=chunks, embedding=embedder)\n",
    "retriever = vectordb.as_retriever(\n",
    "    search_type = 'similarity',\n",
    "    search_kwargs={\"k\": 2}\n",
    ")"
   ]
  },
  {
   "cell_type": "code",
   "execution_count": 26,
   "id": "4ab88c9b-53c4-4501-82ed-167f2b4176b6",
   "metadata": {},
   "outputs": [],
   "source": [
    "from langchain.prompts import ChatPromptTemplate"
   ]
  },
  {
   "cell_type": "code",
   "execution_count": 43,
   "id": "92d8cf33-0207-4339-8ad3-a83af7604b1c",
   "metadata": {},
   "outputs": [],
   "source": [
    "template = \"\"\"\n",
    "You are an helpful AI assistant. Your task is to generate five different alternatives to ask the same questions \\\n",
    "as provided by user. these alternative questions are to help retrieve better content from a vector database by doing \\\n",
    "vector-based similarity search.\n",
    "\n",
    "output format: 1.<your_sample_output>\\n 2.<your_sample_output_2> ..\n",
    "\n",
    "User question: {question} \n",
    "\n",
    "\n",
    "\"\"\"\n",
    "multi_query = ChatPromptTemplate.from_template(template)"
   ]
  },
  {
   "cell_type": "code",
   "execution_count": 28,
   "id": "9d766994-49c9-47aa-abfc-bcc6e58377e1",
   "metadata": {},
   "outputs": [],
   "source": [
    "from langchain_core.output_parsers import StrOutputParser"
   ]
  },
  {
   "cell_type": "code",
   "execution_count": 37,
   "id": "8b6414a6-1909-426e-8955-428abe6c032f",
   "metadata": {},
   "outputs": [],
   "source": []
  },
  {
   "cell_type": "code",
   "execution_count": 91,
   "id": "d82486e7-6d93-4c6e-87ca-6454499da59b",
   "metadata": {},
   "outputs": [],
   "source": [
    "query = \"What are the preferable accomodations and dining spaces in singapore?\"\n",
    "multi_query_res = llm.invoke(multi_query.format(question=query))"
   ]
  },
  {
   "cell_type": "code",
   "execution_count": 71,
   "id": "2e57eeeb-240f-4411-927c-32d935a0d842",
   "metadata": {},
   "outputs": [
    {
     "name": "stdout",
     "output_type": "stream",
     "text": [
      "Here are five alternative questions that can help retrieve better content from a vector database by doing vector-based similarity search:\n",
      "\n",
      "1. What are the top-rated accommodations and dining spots in Singapore, considering factors like location, cuisine, and price range?\n",
      "2. Can you recommend some popular hotels and restaurants in Singapore that offer unique experiences, such as rooftop bars or Michelin-starred cuisine?\n",
      "3. What are some of the most Instagrammable accommodations and dining spaces in Singapore, known for their stunning views, decor, or culinary expertise?\n",
      "4. Are there any Singaporean hotels and restaurants that offer traditional local cuisine, or those that have received international accolades for their innovative takes on Asian flavors?\n",
      "5. What are some of the best-preserved heritage accommodations and dining spaces in Singapore, showcasing the city-state's rich cultural and architectural history?\n",
      "\n",
      "These alternative questions can help retrieve more specific and relevant content from the vector database, by incorporating additional context, preferences, and criteria to narrow down the search results.\n"
     ]
    }
   ],
   "source": [
    "print(multi_query_res.content)"
   ]
  },
  {
   "cell_type": "code",
   "execution_count": 72,
   "id": "dcc26e77-d2ae-4b90-ba4a-513b080597c1",
   "metadata": {},
   "outputs": [
    {
     "data": {
      "text/plain": [
       "['1. What are the top-rated accommodations and dining spots in Singapore, considering factors like location, cuisine, and price range?',\n",
       " '2. Can you recommend some popular hotels and restaurants in Singapore that offer unique experiences, such as rooftop bars or Michelin-starred cuisine?',\n",
       " '3. What are some of the most Instagrammable accommodations and dining spaces in Singapore, known for their stunning views, decor, or culinary expertise?',\n",
       " '4. Are there any Singaporean hotels and restaurants that offer traditional local cuisine, or those that have received international accolades for their innovative takes on Asian flavors?',\n",
       " \"5. What are some of the best-preserved heritage accommodations and dining spaces in Singapore, showcasing the city-state's rich cultural and architectural history?\"]"
      ]
     },
     "execution_count": 72,
     "metadata": {},
     "output_type": "execute_result"
    }
   ],
   "source": [
    "alternate_questions = multi_query_res.content.split(\"\\n\")[1:-2]\n",
    "alternate_questions = [i for i in alternate_questions if i]\n",
    "alternate_questions"
   ]
  },
  {
   "cell_type": "code",
   "execution_count": 73,
   "id": "ce5c0417-fafb-478c-9947-5e17fe5ecf46",
   "metadata": {},
   "outputs": [],
   "source": [
    "alternate_questions.insert(0, query)\n",
    "similar_chunks = retriever.batch(alternate_questions)"
   ]
  },
  {
   "cell_type": "code",
   "execution_count": 107,
   "id": "96d13350-8500-472c-9161-312f895b7195",
   "metadata": {},
   "outputs": [
    {
     "name": "stdout",
     "output_type": "stream",
     "text": [
      "Number of unique chunks retrieved using multi-query:  4\n"
     ]
    }
   ],
   "source": [
    "flattened_docs = [doc for sublist in similar_chunks for doc in sublist]\n",
    "chunks = [doc.page_content for doc in flattened_docs]\n",
    "chunks = list(set(chunks))\n",
    "# len(unique_docs)\n",
    "print(\"Number of unique chunks retrieved using multi-query: \", len(chunks))\n"
   ]
  },
  {
   "cell_type": "code",
   "execution_count": 92,
   "id": "79ce8c82-4438-444e-b3dd-8dab086abf0c",
   "metadata": {},
   "outputs": [],
   "source": [
    "# Answering the main question\n",
    "query_template=\"\"\"\n",
    "Strictly based on the context provided, answer the below question precisely:\n",
    "\n",
    "{context}\n",
    "\n",
    "Question: {question}\n",
    "\"\"\"\n",
    "context = \"\\n\\n---\\n\\n\".join(chunks)\n",
    "query_prompt = ChatPromptTemplate.from_template(query_template)"
   ]
  },
  {
   "cell_type": "code",
   "execution_count": 93,
   "id": "f78b38a6-4d4e-42da-90b4-da7f0629c35b",
   "metadata": {},
   "outputs": [],
   "source": [
    "res = llm.invoke(query_prompt.format(context=context, question=query))"
   ]
  },
  {
   "cell_type": "code",
   "execution_count": 110,
   "id": "9c4dc90b-a2a8-4a42-b844-ba704e26bcc2",
   "metadata": {},
   "outputs": [
    {
     "name": "stdout",
     "output_type": "stream",
     "text": [
      "Based on the reviews provided, the preferable accommodations in Singapore are:\n",
      "\n",
      "* The Fullerton Bay Hotel Singapore ( Review by mrssmithBrisbane)\n",
      "* Amoy by Far East Hospitality (Review by T P B)\n",
      "* The Quincy Hotel by Far East Hospitality (Review by douglas_lin)\n",
      "\n",
      "The preferable dining spaces in Singapore are:\n",
      "\n",
      "* Summer Pavilion (Review by Carlos G)\n",
      "* Fratini La Trattoria (Review by Sana R)\n",
      "* Colony (Review by Hannikins)\n",
      "* Rhubarb (Review by champagnespring)\n",
      "\n",
      "Note that these are based on the reviews provided and may not be a comprehensive or definitive ranking of the best accommodations and dining spaces in Singapore.\n",
      "\n",
      " Page sources: [18, 19, 20, 21]\n"
     ]
    }
   ],
   "source": [
    "print(res.content)\n",
    "pages = list(set([i.metadata['page'] for i in flattened_docs]))\n",
    "print(f\"\\n Page sources: {pages}\")"
   ]
  },
  {
   "cell_type": "markdown",
   "id": "696196c5-1787-438c-b3b2-5c4f513d08d9",
   "metadata": {},
   "source": [
    "## 2. Reciprocal Rank Fusion"
   ]
  },
  {
   "cell_type": "code",
   "execution_count": null,
   "id": "b78619eb-d4b0-4261-9526-ea5b9e8162cb",
   "metadata": {},
   "outputs": [],
   "source": []
  }
 ],
 "metadata": {
  "kernelspec": {
   "display_name": "Python 3 (ipykernel)",
   "language": "python",
   "name": "python3"
  },
  "language_info": {
   "codemirror_mode": {
    "name": "ipython",
    "version": 3
   },
   "file_extension": ".py",
   "mimetype": "text/x-python",
   "name": "python",
   "nbconvert_exporter": "python",
   "pygments_lexer": "ipython3",
   "version": "3.10.12"
  }
 },
 "nbformat": 4,
 "nbformat_minor": 5
}
